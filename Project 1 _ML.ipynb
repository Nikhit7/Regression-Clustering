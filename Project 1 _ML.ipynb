{
 "cells": [
  {
   "cell_type": "code",
   "execution_count": 88,
   "metadata": {},
   "outputs": [],
   "source": [
    "import numpy as np\n",
    "import pandas as pd\n",
    "import itertools\n",
    "from sklearn.model_selection import train_test_split, GridSearchCV\n",
    "from sklearn.decomposition import KernelPCA\n",
    "from sklearn.pipeline import Pipeline\n",
    "from sklearn.linear_model import Ridge\n",
    "from sklearn.preprocessing import StandardScaler\n",
    "from sklearn.metrics import mean_squared_error\n",
    "from sklearn.neighbors import KNeighborsClassifier\n",
    "from sklearn.ensemble import RandomForestClassifier\n",
    "seed=862#for getting reproduceble results"
   ]
  },
  {
   "cell_type": "code",
   "execution_count": 89,
   "metadata": {},
   "outputs": [],
   "source": [
    "# Load data set\n",
    "data = pd.read_csv('train.csv')\n",
    "data = data.drop('Id', axis = 1)\n",
    "\n",
    "# Remove columns that have too many missing values\n",
    "data = data.drop(data.columns[data.isnull().sum() > 30], axis = 1)\n",
    "\n",
    "# Remove missing values\n",
    "data.dropna(inplace = True)"
   ]
  },
  {
   "cell_type": "code",
   "execution_count": 90,
   "metadata": {},
   "outputs": [
    {
     "data": {
      "text/html": [
       "<div>\n",
       "<style scoped>\n",
       "    .dataframe tbody tr th:only-of-type {\n",
       "        vertical-align: middle;\n",
       "    }\n",
       "\n",
       "    .dataframe tbody tr th {\n",
       "        vertical-align: top;\n",
       "    }\n",
       "\n",
       "    .dataframe thead th {\n",
       "        text-align: right;\n",
       "    }\n",
       "</style>\n",
       "<table border=\"1\" class=\"dataframe\">\n",
       "  <thead>\n",
       "    <tr style=\"text-align: right;\">\n",
       "      <th></th>\n",
       "      <th>MSSubClass</th>\n",
       "      <th>MSZoning</th>\n",
       "      <th>LotArea</th>\n",
       "      <th>Street</th>\n",
       "      <th>LotShape</th>\n",
       "      <th>LandContour</th>\n",
       "      <th>Utilities</th>\n",
       "      <th>LotConfig</th>\n",
       "      <th>LandSlope</th>\n",
       "      <th>Neighborhood</th>\n",
       "      <th>...</th>\n",
       "      <th>EnclosedPorch</th>\n",
       "      <th>3SsnPorch</th>\n",
       "      <th>ScreenPorch</th>\n",
       "      <th>PoolArea</th>\n",
       "      <th>MiscVal</th>\n",
       "      <th>MoSold</th>\n",
       "      <th>YrSold</th>\n",
       "      <th>SaleType</th>\n",
       "      <th>SaleCondition</th>\n",
       "      <th>SalePrice</th>\n",
       "    </tr>\n",
       "  </thead>\n",
       "  <tbody>\n",
       "    <tr>\n",
       "      <th>0</th>\n",
       "      <td>60</td>\n",
       "      <td>RL</td>\n",
       "      <td>8450</td>\n",
       "      <td>Pave</td>\n",
       "      <td>Reg</td>\n",
       "      <td>Lvl</td>\n",
       "      <td>AllPub</td>\n",
       "      <td>Inside</td>\n",
       "      <td>Gtl</td>\n",
       "      <td>CollgCr</td>\n",
       "      <td>...</td>\n",
       "      <td>0</td>\n",
       "      <td>0</td>\n",
       "      <td>0</td>\n",
       "      <td>0</td>\n",
       "      <td>0</td>\n",
       "      <td>2</td>\n",
       "      <td>2008</td>\n",
       "      <td>WD</td>\n",
       "      <td>Normal</td>\n",
       "      <td>208500</td>\n",
       "    </tr>\n",
       "    <tr>\n",
       "      <th>1</th>\n",
       "      <td>20</td>\n",
       "      <td>RL</td>\n",
       "      <td>9600</td>\n",
       "      <td>Pave</td>\n",
       "      <td>Reg</td>\n",
       "      <td>Lvl</td>\n",
       "      <td>AllPub</td>\n",
       "      <td>FR2</td>\n",
       "      <td>Gtl</td>\n",
       "      <td>Veenker</td>\n",
       "      <td>...</td>\n",
       "      <td>0</td>\n",
       "      <td>0</td>\n",
       "      <td>0</td>\n",
       "      <td>0</td>\n",
       "      <td>0</td>\n",
       "      <td>5</td>\n",
       "      <td>2007</td>\n",
       "      <td>WD</td>\n",
       "      <td>Normal</td>\n",
       "      <td>181500</td>\n",
       "    </tr>\n",
       "    <tr>\n",
       "      <th>2</th>\n",
       "      <td>60</td>\n",
       "      <td>RL</td>\n",
       "      <td>11250</td>\n",
       "      <td>Pave</td>\n",
       "      <td>IR1</td>\n",
       "      <td>Lvl</td>\n",
       "      <td>AllPub</td>\n",
       "      <td>Inside</td>\n",
       "      <td>Gtl</td>\n",
       "      <td>CollgCr</td>\n",
       "      <td>...</td>\n",
       "      <td>0</td>\n",
       "      <td>0</td>\n",
       "      <td>0</td>\n",
       "      <td>0</td>\n",
       "      <td>0</td>\n",
       "      <td>9</td>\n",
       "      <td>2008</td>\n",
       "      <td>WD</td>\n",
       "      <td>Normal</td>\n",
       "      <td>223500</td>\n",
       "    </tr>\n",
       "    <tr>\n",
       "      <th>3</th>\n",
       "      <td>70</td>\n",
       "      <td>RL</td>\n",
       "      <td>9550</td>\n",
       "      <td>Pave</td>\n",
       "      <td>IR1</td>\n",
       "      <td>Lvl</td>\n",
       "      <td>AllPub</td>\n",
       "      <td>Corner</td>\n",
       "      <td>Gtl</td>\n",
       "      <td>Crawfor</td>\n",
       "      <td>...</td>\n",
       "      <td>272</td>\n",
       "      <td>0</td>\n",
       "      <td>0</td>\n",
       "      <td>0</td>\n",
       "      <td>0</td>\n",
       "      <td>2</td>\n",
       "      <td>2006</td>\n",
       "      <td>WD</td>\n",
       "      <td>Abnorml</td>\n",
       "      <td>140000</td>\n",
       "    </tr>\n",
       "    <tr>\n",
       "      <th>4</th>\n",
       "      <td>60</td>\n",
       "      <td>RL</td>\n",
       "      <td>14260</td>\n",
       "      <td>Pave</td>\n",
       "      <td>IR1</td>\n",
       "      <td>Lvl</td>\n",
       "      <td>AllPub</td>\n",
       "      <td>FR2</td>\n",
       "      <td>Gtl</td>\n",
       "      <td>NoRidge</td>\n",
       "      <td>...</td>\n",
       "      <td>0</td>\n",
       "      <td>0</td>\n",
       "      <td>0</td>\n",
       "      <td>0</td>\n",
       "      <td>0</td>\n",
       "      <td>12</td>\n",
       "      <td>2008</td>\n",
       "      <td>WD</td>\n",
       "      <td>Normal</td>\n",
       "      <td>250000</td>\n",
       "    </tr>\n",
       "  </tbody>\n",
       "</table>\n",
       "<p>5 rows × 64 columns</p>\n",
       "</div>"
      ],
      "text/plain": [
       "   MSSubClass MSZoning  LotArea Street LotShape LandContour Utilities  \\\n",
       "0          60       RL     8450   Pave      Reg         Lvl    AllPub   \n",
       "1          20       RL     9600   Pave      Reg         Lvl    AllPub   \n",
       "2          60       RL    11250   Pave      IR1         Lvl    AllPub   \n",
       "3          70       RL     9550   Pave      IR1         Lvl    AllPub   \n",
       "4          60       RL    14260   Pave      IR1         Lvl    AllPub   \n",
       "\n",
       "  LotConfig LandSlope Neighborhood  ... EnclosedPorch 3SsnPorch ScreenPorch  \\\n",
       "0    Inside       Gtl      CollgCr  ...             0         0           0   \n",
       "1       FR2       Gtl      Veenker  ...             0         0           0   \n",
       "2    Inside       Gtl      CollgCr  ...             0         0           0   \n",
       "3    Corner       Gtl      Crawfor  ...           272         0           0   \n",
       "4       FR2       Gtl      NoRidge  ...             0         0           0   \n",
       "\n",
       "  PoolArea  MiscVal  MoSold  YrSold  SaleType SaleCondition SalePrice  \n",
       "0        0        0       2    2008        WD        Normal    208500  \n",
       "1        0        0       5    2007        WD        Normal    181500  \n",
       "2        0        0       9    2008        WD        Normal    223500  \n",
       "3        0        0       2    2006        WD       Abnorml    140000  \n",
       "4        0        0      12    2008        WD        Normal    250000  \n",
       "\n",
       "[5 rows x 64 columns]"
      ]
     },
     "execution_count": 90,
     "metadata": {},
     "output_type": "execute_result"
    }
   ],
   "source": [
    "data.head()"
   ]
  },
  {
   "cell_type": "code",
   "execution_count": 91,
   "metadata": {},
   "outputs": [],
   "source": [
    "#Baseline Regression on Original Dataset\n",
    "X = data.drop(['SalePrice'], axis=1)\n",
    "y = data['SalePrice'].values"
   ]
  },
  {
   "cell_type": "code",
   "execution_count": 92,
   "metadata": {},
   "outputs": [
    {
     "name": "stdout",
     "output_type": "stream",
     "text": [
      "Shapes\n",
      "X_train_valid :  (1160, 63)\n",
      "X_test        :  (291, 63)\n",
      "y_train_valid :  (1160,)\n",
      "y_test        :  (291,)\n",
      "X_train       :  (870, 63)\n",
      "X_valid       :  (290, 63)\n",
      "y_train       :  (870,)\n",
      "y_valid       :  (290,)\n"
     ]
    }
   ],
   "source": [
    "# First split the training and testing set\n",
    "X_train_valid, X_test, y_train_valid, y_test = train_test_split(X, y, test_size=0.2, random_state=seed)\n",
    "X_train, X_valid, y_train, y_valid = train_test_split(X_train_valid, y_train_valid, test_size=0.25, random_state=seed)\n",
    "\n",
    "print('Shapes')\n",
    "print('X_train_valid : ',X_train_valid.shape)\n",
    "print('X_test        : ',X_test.shape)\n",
    "print('y_train_valid : ',y_train_valid.shape)\n",
    "print('y_test        : ',y_test.shape)\n",
    "print('X_train       : ',X_train.shape)\n",
    "print('X_valid       : ',X_valid.shape)\n",
    "print('y_train       : ',y_train.shape)\n",
    "print('y_valid       : ',y_valid.shape)"
   ]
  },
  {
   "cell_type": "code",
   "execution_count": 93,
   "metadata": {},
   "outputs": [
    {
     "name": "stdout",
     "output_type": "stream",
     "text": [
      "X_train_numeric_col         :  (870, 34)\n",
      "X_train_categorical_col     :  (870, 29)\n",
      "X_valid_numeric_col         :  (290, 34)\n",
      "X_valid_categorical_col     :  (290, 29)\n",
      "X_test_numeric_col          :  (291, 34)\n",
      "X_test_categorical_col      :  (291, 29)\n"
     ]
    }
   ],
   "source": [
    "#Splitting numeric and categorical columns\n",
    "\n",
    "X_train_numeric_col = X_train.select_dtypes(include=[np.number])#PCA\n",
    "X_train_categorical_col = X_train.select_dtypes(exclude=[np.number])#MCA\n",
    "\n",
    "X_valid_numeric_col = X_valid.select_dtypes(include=[np.number])#PCA\n",
    "X_valid_categorical_col = X_valid.select_dtypes(exclude=[np.number])#MCA\n",
    "\n",
    "X_test_numeric_col = X_test.select_dtypes(include=[np.number])#PCA\n",
    "X_test_categorical_col = X_test.select_dtypes(exclude=[np.number])#MCA\n",
    "\n",
    "print('X_train_numeric_col         : ',X_train_numeric_col.shape)\n",
    "print('X_train_categorical_col     : ',X_train_categorical_col.shape)\n",
    "print('X_valid_numeric_col         : ',X_valid_numeric_col.shape)\n",
    "print('X_valid_categorical_col     : ',X_valid_categorical_col.shape)\n",
    "print('X_test_numeric_col          : ',X_test_numeric_col.shape)\n",
    "print('X_test_categorical_col      : ',X_test_categorical_col.shape)"
   ]
  },
  {
   "cell_type": "code",
   "execution_count": 94,
   "metadata": {},
   "outputs": [
    {
     "name": "stdout",
     "output_type": "stream",
     "text": [
      "X_train_categorical_col shape :  (870, 14)\n",
      "X_test_categorical_col  shape :  (291, 14)\n"
     ]
    }
   ],
   "source": [
    "'''\n",
    "This is the script you can use to check the categorical features between training and testing sets.\n",
    "You can apply this code after you can done the train/test split, as well as separation of numerical\n",
    "and categorical features.\n",
    "'''\n",
    "\n",
    "# Categorical features in training set is called X_train_cat.\n",
    "# Categorical features in testing set is called X_test_set.\n",
    "# Make sure the training feature and testing feature has same number of levels\n",
    "keep = X_train_categorical_col.nunique() == X_test_categorical_col.nunique()\n",
    "X_train_categorical_col = X_train_categorical_col[X_train_categorical_col.columns[keep]]\n",
    "X_test_categorical_col = X_test_categorical_col[X_test_categorical_col.columns[keep]]\n",
    "\n",
    "# For categorical features that have same levels, make sure the classes are the same\n",
    "keep = []\n",
    "for i in range(X_train_categorical_col.shape[1]):\n",
    "    keep.append(all(np.sort(X_train_categorical_col.iloc[:,i].unique()) == np.sort(X_test_categorical_col.iloc[:,i].unique())))\n",
    "X_train_categorical_col = X_train_categorical_col[X_train_categorical_col.columns[keep]]\n",
    "X_test_categorical_col = X_test_categorical_col[X_test_categorical_col.columns[keep]]\n",
    "\n",
    "print('X_train_categorical_col shape : ',X_train_categorical_col.shape)\n",
    "print('X_test_categorical_col  shape : ', X_test_categorical_col.shape)"
   ]
  },
  {
   "cell_type": "code",
   "execution_count": 103,
   "metadata": {},
   "outputs": [],
   "source": [
    "# Scaling data\n",
    "# Numeric Columns for PCA\n",
    "# Categorical Columns for MCA\n",
    "scaler = StandardScaler()\n",
    "\n",
    "scaler.fit(X_train_numeric_col)\n",
    "\n",
    "X_train_numeric_col_scaled = pd.DataFrame(scaler.transform(X_train_numeric_col))\n",
    "X_train_numeric_col_scaled.columns = X_train_numeric_col.columns.values\n",
    "\n",
    "X_valid_numeric_col_scaled = pd.DataFrame(scaler.transform(X_valid_numeric_col))\n",
    "X_valid_numeric_col_scaled.columns = X_valid_numeric_col.columns.values"
   ]
  },
  {
   "cell_type": "code",
   "execution_count": 104,
   "metadata": {},
   "outputs": [],
   "source": [
    "pipeline = Pipeline([\n",
    "    ('pca', KernelPCA(random_state = 862)),\n",
    "    ('clf', RandomForestClassifier()) # The RandomForestClassifier() is just a placeholder\n",
    "])\n",
    "parameters = [\n",
    "      {\n",
    "        'pca__kernel': ['linear', 'rbf', 'poly'],\n",
    "        'pca__n_components': range(2, 30),\n",
    "        'clf': [RandomForestClassifier()],\n",
    "        'clf__n_estimators': [50,100,150]\n",
    "    }, {\n",
    "        'pca__kernel': ['linear', 'rbf', 'poly'],\n",
    "        'pca__n_components': range(2, 30),\n",
    "        'clf': [KNeighborsClassifier()],\n",
    "        'clf__n_neighbors': range(5,16)\n",
    "    }\n",
    "]\n",
    "GS_kPCA = GridSearchCV(pipeline, parameters, n_jobs = -1, cv = 5)"
   ]
  },
  {
   "cell_type": "code",
   "execution_count": 105,
   "metadata": {},
   "outputs": [
    {
     "name": "stderr",
     "output_type": "stream",
     "text": [
      "C:\\Users\\vhema\\anaconda3\\lib\\site-packages\\sklearn\\model_selection\\_split.py:672: UserWarning: The least populated class in y has only 1 members, which is less than n_splits=5.\n",
      "  % (min_groups, self.n_splits)), UserWarning)\n"
     ]
    },
    {
     "data": {
      "text/plain": [
       "GridSearchCV(cv=5,\n",
       "             estimator=Pipeline(steps=[('pca', KernelPCA(random_state=862)),\n",
       "                                       ('clf', RandomForestClassifier())]),\n",
       "             n_jobs=-1,\n",
       "             param_grid=[{'clf': [RandomForestClassifier()],\n",
       "                          'clf__n_estimators': [50, 100, 150],\n",
       "                          'pca__kernel': ['linear', 'rbf', 'poly'],\n",
       "                          'pca__n_components': range(2, 30)},\n",
       "                         {'clf': [KNeighborsClassifier()],\n",
       "                          'clf__n_neighbors': range(5, 16),\n",
       "                          'pca__kernel': ['linear', 'rbf', 'poly'],\n",
       "                          'pca__n_components': range(2, 30)}])"
      ]
     },
     "execution_count": 105,
     "metadata": {},
     "output_type": "execute_result"
    }
   ],
   "source": [
    "GS_kPCA.fit(X_train_numeric_col_scaled, y_train)"
   ]
  },
  {
   "cell_type": "code",
   "execution_count": 107,
   "metadata": {},
   "outputs": [
    {
     "data": {
      "text/plain": [
       "{'clf': RandomForestClassifier(),\n",
       " 'clf__n_estimators': 100,\n",
       " 'pca__kernel': 'poly',\n",
       " 'pca__n_components': 18}"
      ]
     },
     "execution_count": 107,
     "metadata": {},
     "output_type": "execute_result"
    }
   ],
   "source": [
    "GS_kPCA.best_params_"
   ]
  },
  {
   "cell_type": "code",
   "execution_count": 111,
   "metadata": {},
   "outputs": [],
   "source": [
    "kpca= KernelPCA(kernel='poly', n_components=18, random_state=862)\n",
    "X_kpca_reduced = kpca.fit_transform(X_train_numeric_col_scaled)#reduced features"
   ]
  },
  {
   "cell_type": "code",
   "execution_count": 112,
   "metadata": {},
   "outputs": [
    {
     "data": {
      "text/plain": [
       "array([[-0.14873294, -0.23804113, -0.09342185, ...,  0.03743906,\n",
       "         0.05029464, -0.43764423],\n",
       "       [-0.15270217, -0.05056568, -0.07588408, ..., -1.36622267,\n",
       "         0.56139965,  0.27933719],\n",
       "       [-0.14787777, -0.2501955 , -0.11206482, ...,  0.1549703 ,\n",
       "        -0.55347854,  0.41312724],\n",
       "       ...,\n",
       "       [-0.14143635, -0.24188367, -0.08820206, ..., -0.03370817,\n",
       "        -0.01230496, -0.01840397],\n",
       "       [-0.14740068, -0.1530348 , -0.05027048, ...,  0.33960732,\n",
       "        -0.21846359,  0.02482281],\n",
       "       [-0.14026309, -0.24685554, -0.09107302, ..., -0.34373894,\n",
       "         0.15122542, -0.31685357]])"
      ]
     },
     "execution_count": 112,
     "metadata": {},
     "output_type": "execute_result"
    }
   ],
   "source": [
    "X_kpca_reduced"
   ]
  },
  {
   "cell_type": "markdown",
   "metadata": {},
   "source": [
    "# Ridge Regression "
   ]
  },
  {
   "cell_type": "code",
   "execution_count": 50,
   "metadata": {},
   "outputs": [
    {
     "data": {
      "text/html": [
       "<div>\n",
       "<style scoped>\n",
       "    .dataframe tbody tr th:only-of-type {\n",
       "        vertical-align: middle;\n",
       "    }\n",
       "\n",
       "    .dataframe tbody tr th {\n",
       "        vertical-align: top;\n",
       "    }\n",
       "\n",
       "    .dataframe thead th {\n",
       "        text-align: right;\n",
       "    }\n",
       "</style>\n",
       "<table border=\"1\" class=\"dataframe\">\n",
       "  <thead>\n",
       "    <tr style=\"text-align: right;\">\n",
       "      <th></th>\n",
       "      <th>MSZoning_FV</th>\n",
       "      <th>MSZoning_RH</th>\n",
       "      <th>MSZoning_RL</th>\n",
       "      <th>MSZoning_RM</th>\n",
       "      <th>Street_Pave</th>\n",
       "      <th>LotShape_IR2</th>\n",
       "      <th>LotShape_IR3</th>\n",
       "      <th>LotShape_Reg</th>\n",
       "      <th>LandContour_HLS</th>\n",
       "      <th>LandContour_Low</th>\n",
       "      <th>...</th>\n",
       "      <th>SaleType_ConLI</th>\n",
       "      <th>SaleType_ConLw</th>\n",
       "      <th>SaleType_New</th>\n",
       "      <th>SaleType_Oth</th>\n",
       "      <th>SaleType_WD</th>\n",
       "      <th>SaleCondition_AdjLand</th>\n",
       "      <th>SaleCondition_Alloca</th>\n",
       "      <th>SaleCondition_Family</th>\n",
       "      <th>SaleCondition_Normal</th>\n",
       "      <th>SaleCondition_Partial</th>\n",
       "    </tr>\n",
       "  </thead>\n",
       "  <tbody>\n",
       "    <tr>\n",
       "      <th>0</th>\n",
       "      <td>0</td>\n",
       "      <td>0</td>\n",
       "      <td>1</td>\n",
       "      <td>0</td>\n",
       "      <td>1</td>\n",
       "      <td>0</td>\n",
       "      <td>0</td>\n",
       "      <td>1</td>\n",
       "      <td>0</td>\n",
       "      <td>0</td>\n",
       "      <td>...</td>\n",
       "      <td>0</td>\n",
       "      <td>0</td>\n",
       "      <td>0</td>\n",
       "      <td>0</td>\n",
       "      <td>1</td>\n",
       "      <td>0</td>\n",
       "      <td>0</td>\n",
       "      <td>0</td>\n",
       "      <td>1</td>\n",
       "      <td>0</td>\n",
       "    </tr>\n",
       "    <tr>\n",
       "      <th>1</th>\n",
       "      <td>0</td>\n",
       "      <td>0</td>\n",
       "      <td>1</td>\n",
       "      <td>0</td>\n",
       "      <td>1</td>\n",
       "      <td>0</td>\n",
       "      <td>0</td>\n",
       "      <td>1</td>\n",
       "      <td>0</td>\n",
       "      <td>0</td>\n",
       "      <td>...</td>\n",
       "      <td>0</td>\n",
       "      <td>0</td>\n",
       "      <td>0</td>\n",
       "      <td>0</td>\n",
       "      <td>1</td>\n",
       "      <td>0</td>\n",
       "      <td>0</td>\n",
       "      <td>0</td>\n",
       "      <td>1</td>\n",
       "      <td>0</td>\n",
       "    </tr>\n",
       "    <tr>\n",
       "      <th>2</th>\n",
       "      <td>0</td>\n",
       "      <td>0</td>\n",
       "      <td>1</td>\n",
       "      <td>0</td>\n",
       "      <td>1</td>\n",
       "      <td>0</td>\n",
       "      <td>0</td>\n",
       "      <td>0</td>\n",
       "      <td>0</td>\n",
       "      <td>0</td>\n",
       "      <td>...</td>\n",
       "      <td>0</td>\n",
       "      <td>0</td>\n",
       "      <td>0</td>\n",
       "      <td>0</td>\n",
       "      <td>1</td>\n",
       "      <td>0</td>\n",
       "      <td>0</td>\n",
       "      <td>0</td>\n",
       "      <td>1</td>\n",
       "      <td>0</td>\n",
       "    </tr>\n",
       "    <tr>\n",
       "      <th>3</th>\n",
       "      <td>0</td>\n",
       "      <td>0</td>\n",
       "      <td>1</td>\n",
       "      <td>0</td>\n",
       "      <td>1</td>\n",
       "      <td>0</td>\n",
       "      <td>0</td>\n",
       "      <td>0</td>\n",
       "      <td>0</td>\n",
       "      <td>0</td>\n",
       "      <td>...</td>\n",
       "      <td>0</td>\n",
       "      <td>0</td>\n",
       "      <td>0</td>\n",
       "      <td>0</td>\n",
       "      <td>1</td>\n",
       "      <td>0</td>\n",
       "      <td>0</td>\n",
       "      <td>0</td>\n",
       "      <td>0</td>\n",
       "      <td>0</td>\n",
       "    </tr>\n",
       "    <tr>\n",
       "      <th>4</th>\n",
       "      <td>0</td>\n",
       "      <td>0</td>\n",
       "      <td>1</td>\n",
       "      <td>0</td>\n",
       "      <td>1</td>\n",
       "      <td>0</td>\n",
       "      <td>0</td>\n",
       "      <td>0</td>\n",
       "      <td>0</td>\n",
       "      <td>0</td>\n",
       "      <td>...</td>\n",
       "      <td>0</td>\n",
       "      <td>0</td>\n",
       "      <td>0</td>\n",
       "      <td>0</td>\n",
       "      <td>1</td>\n",
       "      <td>0</td>\n",
       "      <td>0</td>\n",
       "      <td>0</td>\n",
       "      <td>1</td>\n",
       "      <td>0</td>\n",
       "    </tr>\n",
       "  </tbody>\n",
       "</table>\n",
       "<p>5 rows × 162 columns</p>\n",
       "</div>"
      ],
      "text/plain": [
       "   MSZoning_FV  MSZoning_RH  MSZoning_RL  MSZoning_RM  Street_Pave  \\\n",
       "0            0            0            1            0            1   \n",
       "1            0            0            1            0            1   \n",
       "2            0            0            1            0            1   \n",
       "3            0            0            1            0            1   \n",
       "4            0            0            1            0            1   \n",
       "\n",
       "   LotShape_IR2  LotShape_IR3  LotShape_Reg  LandContour_HLS  LandContour_Low  \\\n",
       "0             0             0             1                0                0   \n",
       "1             0             0             1                0                0   \n",
       "2             0             0             0                0                0   \n",
       "3             0             0             0                0                0   \n",
       "4             0             0             0                0                0   \n",
       "\n",
       "   ...  SaleType_ConLI  SaleType_ConLw  SaleType_New  SaleType_Oth  \\\n",
       "0  ...               0               0             0             0   \n",
       "1  ...               0               0             0             0   \n",
       "2  ...               0               0             0             0   \n",
       "3  ...               0               0             0             0   \n",
       "4  ...               0               0             0             0   \n",
       "\n",
       "   SaleType_WD  SaleCondition_AdjLand  SaleCondition_Alloca  \\\n",
       "0            1                      0                     0   \n",
       "1            1                      0                     0   \n",
       "2            1                      0                     0   \n",
       "3            1                      0                     0   \n",
       "4            1                      0                     0   \n",
       "\n",
       "   SaleCondition_Family  SaleCondition_Normal  SaleCondition_Partial  \n",
       "0                     0                     1                      0  \n",
       "1                     0                     1                      0  \n",
       "2                     0                     1                      0  \n",
       "3                     0                     0                      0  \n",
       "4                     0                     1                      0  \n",
       "\n",
       "[5 rows x 162 columns]"
      ]
     },
     "execution_count": 50,
     "metadata": {},
     "output_type": "execute_result"
    }
   ],
   "source": [
    "# Creating dummy variables\n",
    "numeric_col = data.select_dtypes(include=[np.number])#PCA\n",
    "categorical_col = data.select_dtypes(exclude=[np.number])#MCA\n",
    "cat_dummy= pd.get_dummies(data = categorical_col, columns =categorical_col.columns , drop_first = True)\n",
    "cat_dummy.head()"
   ]
  },
  {
   "cell_type": "code",
   "execution_count": 51,
   "metadata": {},
   "outputs": [],
   "source": [
    "data=numeric_col.merge(cat_dummy,left_index=True,right_index=True)"
   ]
  },
  {
   "cell_type": "code",
   "execution_count": 52,
   "metadata": {},
   "outputs": [],
   "source": [
    "#Baseline Regression on Original Dataset\n",
    "X = data.drop(['SalePrice'], axis=1)\n",
    "y = data['SalePrice'].values"
   ]
  },
  {
   "cell_type": "code",
   "execution_count": 53,
   "metadata": {},
   "outputs": [],
   "source": [
    "# First split the training and testing set\n",
    "X_train_valid, X_test, y_train_valid, y_test = train_test_split(X, y, test_size = 0.2, random_state = seed)"
   ]
  },
  {
   "cell_type": "code",
   "execution_count": 54,
   "metadata": {},
   "outputs": [
    {
     "name": "stdout",
     "output_type": "stream",
     "text": [
      "MSSubClass               5.390803e-17\n",
      "LotArea                  6.345499e-17\n",
      "OverallQual              8.728650e-17\n",
      "OverallCond             -6.010518e-17\n",
      "YearBuilt               -1.351218e-15\n",
      "                             ...     \n",
      "SaleCondition_AdjLand   -1.290874e-16\n",
      "SaleCondition_Alloca     1.358827e-16\n",
      "SaleCondition_Family     1.040834e-16\n",
      "SaleCondition_Normal     2.388894e-16\n",
      "SaleCondition_Partial    5.056300e-16\n",
      "Length: 196, dtype: float64\n",
      "MSSubClass               1.000431\n",
      "LotArea                  1.000431\n",
      "OverallQual              1.000431\n",
      "OverallCond              1.000431\n",
      "YearBuilt                1.000431\n",
      "                           ...   \n",
      "SaleCondition_AdjLand    1.000431\n",
      "SaleCondition_Alloca     1.000431\n",
      "SaleCondition_Family     1.000431\n",
      "SaleCondition_Normal     1.000431\n",
      "SaleCondition_Partial    1.000431\n",
      "Length: 196, dtype: float64\n"
     ]
    }
   ],
   "source": [
    "# Now let's scale our data\n",
    "scaler = StandardScaler() # Instantiate\n",
    "scaler.fit(X_train_valid) # First fit the data, i.e. learn the mean and sd\n",
    "X_train_valid = pd.DataFrame(scaler.transform(X_train_valid)) # Then transform the data. We can also use fit_transform\n",
    "X_test = pd.DataFrame(scaler.transform(X_test)) # Transform the testing set\n",
    "X_train_valid.columns = X.columns.values\n",
    "X_test.columns = X.columns.values\n",
    "print(X_train_valid.mean())\n",
    "print(X_train_valid.std())\n",
    "# Remember, the steps are fit, then transform"
   ]
  },
  {
   "cell_type": "code",
   "execution_count": 55,
   "metadata": {},
   "outputs": [],
   "source": [
    "# Now we can split the training and validation set\n",
    "X_train, X_valid, y_train, y_valid = train_test_split(X_train_valid, y_train_valid, test_size = 0.25, random_state = seed)"
   ]
  },
  {
   "cell_type": "code",
   "execution_count": 63,
   "metadata": {},
   "outputs": [],
   "source": [
    "# Setting up lambda values \n",
    "\n",
    "alphas = np.logspace(-10,5,10)\n",
    "\n",
    "Validation_Scores = []\n",
    "for a in alphas:\n",
    "    lm = Ridge(alpha=a)\n",
    "    lm.fit(X_train, y_train) # Fit model on training set\n",
    "    Validation_Scores.append(mean_squared_error(lm.predict(X_valid), y_valid)) # Evaluate model on validation set"
   ]
  },
  {
   "cell_type": "code",
   "execution_count": 64,
   "metadata": {},
   "outputs": [
    {
     "data": {
      "text/plain": [
       "1.0"
      ]
     },
     "execution_count": 64,
     "metadata": {},
     "output_type": "execute_result"
    }
   ],
   "source": [
    "# Find minimum validation error and the corresponding lambda value\n",
    "min(Validation_Scores)\n",
    "alphas[np.argmin(Validation_Scores)]"
   ]
  },
  {
   "cell_type": "code",
   "execution_count": 65,
   "metadata": {},
   "outputs": [],
   "source": [
    "# Scale data (use the train_valid set to fit, then transform both the train_valid set and test set)\n",
    "scaler.fit(X_train_valid) \n",
    "X_train_valid = pd.DataFrame(scaler.transform(X_train_valid)) \n",
    "X_test = pd.DataFrame(scaler.transform(X_test)) "
   ]
  },
  {
   "cell_type": "code",
   "execution_count": 66,
   "metadata": {},
   "outputs": [
    {
     "name": "stdout",
     "output_type": "stream",
     "text": [
      "                0                      1\n",
      "0      -95.310533             MSSubClass\n",
      "1     7006.088456                LotArea\n",
      "2    10660.383685            OverallQual\n",
      "3     6217.025980            OverallCond\n",
      "4     8069.401859              YearBuilt\n",
      "..            ...                    ...\n",
      "191    644.758312  SaleCondition_AdjLand\n",
      "192   1019.753257   SaleCondition_Alloca\n",
      "193   -157.956312   SaleCondition_Family\n",
      "194   2151.355901   SaleCondition_Normal\n",
      "195   6465.452339  SaleCondition_Partial\n",
      "\n",
      "[196 rows x 2 columns]\n",
      "The prediction error on the testing set is 44831.90977866733\n"
     ]
    }
   ],
   "source": [
    "lm = Ridge(alpha=alphas[np.argmin(Validation_Scores)])\n",
    "lm.fit(X_train_valid, y_train_valid)\n",
    "print(pd.DataFrame(zip(lm.coef_,X.columns)))\n",
    "print(\"The prediction error on the testing set is\", np.sqrt(mean_squared_error(lm.predict(X_test), y_test)))"
   ]
  },
  {
   "cell_type": "code",
   "execution_count": 78,
   "metadata": {},
   "outputs": [
    {
     "data": {
      "text/plain": [
       "LinearRegression()"
      ]
     },
     "execution_count": 78,
     "metadata": {},
     "output_type": "execute_result"
    }
   ],
   "source": [
    "from sklearn.linear_model import LinearRegression\n",
    "linear = LinearRegression()\n",
    "linear.fit(X_train,y_train)"
   ]
  },
  {
   "cell_type": "code",
   "execution_count": 79,
   "metadata": {},
   "outputs": [],
   "source": [
    "y_pred = linear.predict(X_test)"
   ]
  },
  {
   "cell_type": "code",
   "execution_count": 80,
   "metadata": {},
   "outputs": [],
   "source": [
    "from sklearn import metrics"
   ]
  },
  {
   "cell_type": "code",
   "execution_count": 81,
   "metadata": {},
   "outputs": [
    {
     "data": {
      "text/plain": [
       "0.8386263937150922"
      ]
     },
     "execution_count": 81,
     "metadata": {},
     "output_type": "execute_result"
    }
   ],
   "source": [
    "metrics.r2_score(y_test, y_pred)"
   ]
  }
 ],
 "metadata": {
  "kernelspec": {
   "display_name": "Python 3",
   "language": "python",
   "name": "python3"
  },
  "language_info": {
   "codemirror_mode": {
    "name": "ipython",
    "version": 3
   },
   "file_extension": ".py",
   "mimetype": "text/x-python",
   "name": "python",
   "nbconvert_exporter": "python",
   "pygments_lexer": "ipython3",
   "version": "3.7.6"
  }
 },
 "nbformat": 4,
 "nbformat_minor": 2
}
